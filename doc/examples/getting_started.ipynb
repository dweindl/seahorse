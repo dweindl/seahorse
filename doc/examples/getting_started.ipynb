{
 "cells": [
  {
   "cell_type": "markdown",
   "id": "1886eb1b1d005b20",
   "metadata": {
    "collapsed": false,
    "jupyter": {
     "outputs_hidden": false
    }
   },
   "source": [
    "# Getting started\n",
    "\n",
    "This package is visualizing and processing Agilent Seahorse Extracellular Flux Analyzer data.\n",
    "\n",
    "In the following, we'll import some sample data and give a brief overview of the current functionality."
   ]
  },
  {
   "cell_type": "code",
   "execution_count": null,
   "id": "a0ebf576ab51e4d4",
   "metadata": {
    "collapsed": false,
    "jupyter": {
     "outputs_hidden": false
    }
   },
   "outputs": [],
   "source": [
    "import seahorse\n",
    "import pooch\n",
    "\n",
    "# We download some sample dataset provided with a different tool (https://github.com/jamespeapen/ceas/)\n",
    "url = \"https://raw.githubusercontent.com/jamespeapen/ceas/05dd5af93b0fb75bdce03bf1c5ffd663cc2ee82c/inst/extdata/rep1.xlsx\"\n",
    "data_file = pooch.retrieve(\n",
    "    url, known_hash=\"c584b08b0712e199502f4d7a82e5cd52582de1fe123d8706b2258640157d8108\"\n",
    ")"
   ]
  },
  {
   "cell_type": "markdown",
   "id": "8d81182ef3e39b47",
   "metadata": {
    "collapsed": false,
    "jupyter": {
     "outputs_hidden": false
    }
   },
   "source": [
    "## Visualizing results\n",
    "\n",
    "First we load the exported Seahorse data:"
   ]
  },
  {
   "cell_type": "code",
   "execution_count": null,
   "id": "974a870b9144a6e9",
   "metadata": {
    "collapsed": false,
    "jupyter": {
     "outputs_hidden": false
    }
   },
   "outputs": [],
   "source": [
    "# Read the datafile\n",
    "e = seahorse.SeahorseExperiment(data_file)\n",
    "e"
   ]
  },
  {
   "cell_type": "markdown",
   "id": "5de54361beb53b1b",
   "metadata": {},
   "source": [
    "Let's plot the oxygen consumption rate:"
   ]
  },
  {
   "cell_type": "code",
   "execution_count": null,
   "id": "9cef4b4ca7478ff6",
   "metadata": {
    "collapsed": false,
    "jupyter": {
     "outputs_hidden": false
    }
   },
   "outputs": [],
   "source": [
    "e.plot_summary_ocr()"
   ]
  },
  {
   "cell_type": "markdown",
   "id": "56b2630e0ea38fed",
   "metadata": {},
   "source": [
    "... and the extracellular acidification rate:"
   ]
  },
  {
   "cell_type": "code",
   "execution_count": null,
   "id": "af3e3277900ffe86",
   "metadata": {},
   "outputs": [],
   "source": [
    "e.plot_summary_ecar()"
   ]
  },
  {
   "cell_type": "markdown",
   "id": "f8d7e1250f8618c8",
   "metadata": {},
   "source": [
    "In the ECAR plot, one sample looks like an outlier, let's see which well that is to exclude it from further analysis:"
   ]
  },
  {
   "cell_type": "code",
   "execution_count": null,
   "id": "ad3056064f86d66b",
   "metadata": {},
   "outputs": [],
   "source": [
    "e.rate.query(\"ECAR < -100\")"
   ]
  },
  {
   "cell_type": "markdown",
   "id": "b5e92c50f842d830",
   "metadata": {},
   "source": [
    "So it's well `E7`, let's exlude it:"
   ]
  },
  {
   "cell_type": "code",
   "execution_count": null,
   "id": "3ed3e2b089659de",
   "metadata": {},
   "outputs": [],
   "source": [
    "e.exclude_wells(\"E07\")"
   ]
  },
  {
   "cell_type": "markdown",
   "id": "ae8e0e1116ed0288",
   "metadata": {},
   "source": [
    "For further quality control we can also look at all wells side-by-side (note how the previously excluded well is greyed out):"
   ]
  },
  {
   "cell_type": "code",
   "execution_count": null,
   "id": "b68b31d0c507ef92",
   "metadata": {},
   "outputs": [],
   "source": [
    "e.small_multiples_rate()"
   ]
  },
  {
   "cell_type": "markdown",
   "id": "18a24fe2d67bfe78",
   "metadata": {},
   "source": [
    "The example file we used here does not include the raw measurements (`Raw` tab in the spreadsheet). Otherwise, we could also visualize the raw pH, O2, and temperature measurements."
   ]
  },
  {
   "cell_type": "markdown",
   "id": "75a7363c96bdb076",
   "metadata": {},
   "source": [
    "## Aggregating results\n",
    "\n",
    "We can easily access a summary of the data - the mean and standard deviations for each group and timepoint across all wells in the group:"
   ]
  },
  {
   "cell_type": "code",
   "execution_count": null,
   "id": "4a4fff2580fba6ca",
   "metadata": {
    "collapsed": false,
    "jupyter": {
     "outputs_hidden": false
    }
   },
   "outputs": [],
   "source": [
    "e.aggregated_rates()"
   ]
  },
  {
   "cell_type": "markdown",
   "id": "c998cb310348beeb",
   "metadata": {},
   "source": [
    "If we want to use the measurements for parameter estimation for some model, the measurements can easily be transformed to the [PEtab](https://petab.readthedocs.io/en/latest/) measurements format:"
   ]
  },
  {
   "cell_type": "code",
   "execution_count": null,
   "id": "95b1266a3c753872",
   "metadata": {
    "collapsed": false,
    "jupyter": {
     "outputs_hidden": false
    }
   },
   "outputs": [],
   "source": [
    "from seahorse.petab import to_petab\n",
    "\n",
    "to_petab(e.aggregated_rates(), exclude_groups=[\"Background\"])"
   ]
  },
  {
   "cell_type": "markdown",
   "id": "d812779f2c50c748",
   "metadata": {},
   "source": [
    "## Further functionality"
   ]
  },
  {
   "cell_type": "code",
   "execution_count": null,
   "id": "449896cbc5ce3371",
   "metadata": {
    "collapsed": false,
    "jupyter": {
     "outputs_hidden": false
    }
   },
   "outputs": [],
   "source": [
    "# We can inspect the log:\n",
    "e.log"
   ]
  },
  {
   "cell_type": "code",
   "execution_count": null,
   "id": "8b07054b70336386",
   "metadata": {
    "collapsed": false,
    "jupyter": {
     "outputs_hidden": false
    }
   },
   "outputs": [],
   "source": [
    "# ... access various project configuration values:\n",
    "e.config()"
   ]
  },
  {
   "cell_type": "code",
   "execution_count": null,
   "id": "7706ece784590e1c",
   "metadata": {},
   "outputs": [],
   "source": [
    "# ... see the group layout ...\n",
    "group_layout = e.config()[\"Group Layout\"].to_df()\n",
    "\n",
    "\n",
    "def color_categorical(df):\n",
    "    \"\"\"Create a mappable color function for a DataFrame with categorical values for use with pd.DataFrame.style.\"\"\"\n",
    "    import matplotlib.pyplot as plt\n",
    "    from matplotlib.colors import to_hex\n",
    "\n",
    "    # unique categorical values\n",
    "    keys = group_layout.melt().value.unique()\n",
    "    cmap = plt.get_cmap(\"tab20\", len(keys))\n",
    "    # category => color\n",
    "    cmap = {k: to_hex(cmap(i)) for i, k in enumerate(keys)}\n",
    "\n",
    "    def color(val):\n",
    "        return f\"background-color: {cmap[val]}\"\n",
    "\n",
    "    return color\n",
    "\n",
    "\n",
    "group_layout.style.map(color_categorical(group_layout))"
   ]
  },
  {
   "cell_type": "code",
   "execution_count": null,
   "id": "4fdc9327db546cdd",
   "metadata": {},
   "outputs": [],
   "source": [
    "# see what was injected when:\n",
    "e.injections"
   ]
  }
 ],
 "metadata": {
  "kernelspec": {
   "display_name": "Python 3 (ipykernel)",
   "language": "python",
   "name": "python3"
  },
  "language_info": {
   "codemirror_mode": {
    "name": "ipython",
    "version": 3
   },
   "file_extension": ".py",
   "mimetype": "text/x-python",
   "name": "python",
   "nbconvert_exporter": "python",
   "pygments_lexer": "ipython3",
   "version": "3.13.0"
  }
 },
 "nbformat": 4,
 "nbformat_minor": 5
}
